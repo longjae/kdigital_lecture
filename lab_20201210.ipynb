{
 "cells": [
  {
   "cell_type": "code",
   "execution_count": 1,
   "metadata": {},
   "outputs": [],
   "source": [
    "words = [\"school\",\"game\",\"piano\",\"science\",\"hotel\",\"mountain\"]"
   ]
  },
  {
   "cell_type": "code",
   "execution_count": 4,
   "metadata": {},
   "outputs": [
    {
     "name": "stdout",
     "output_type": "stream",
     "text": [
      "['school', 'science', 'mountain']\n"
     ]
    }
   ],
   "source": [
    "a = []\n",
    "\n",
    "for word in words:\n",
    "    if len(word) > 5:\n",
    "        a.append(word)\n",
    "        \n",
    "print(a)"
   ]
  },
  {
   "cell_type": "code",
   "execution_count": 5,
   "metadata": {},
   "outputs": [],
   "source": [
    "x=[3, 6, 9, 20, -7, 5]"
   ]
  },
  {
   "cell_type": "code",
   "execution_count": 9,
   "metadata": {},
   "outputs": [
    {
     "name": "stdout",
     "output_type": "stream",
     "text": [
      "[-7, 3, 5, 6, 9, 20]\n"
     ]
    }
   ],
   "source": [
    "for i in range(len(x)-1):\n",
    "    for j in range(len(x)-i-1):\n",
    "        if x[j] > x[j+1]:\n",
    "            temp = x[j+1]\n",
    "            x[j+1] = x[j]\n",
    "            x[j] = temp\n",
    "print(x)"
   ]
  },
  {
   "cell_type": "code",
   "execution_count": 11,
   "metadata": {},
   "outputs": [
    {
     "name": "stdout",
     "output_type": "stream",
     "text": [
      "값을 입력해주세요 : 0\n",
      "합계는? 0\n"
     ]
    }
   ],
   "source": [
    "score = -1\n",
    "score_sum = 0\n",
    "\n",
    "while score != 0:\n",
    "    score = int(input(\"값을 입력해주세요 : \"))\n",
    "    score_sum = score_sum + score\n",
    "    \n",
    "print(f\"합계는? {score_sum}\")    "
   ]
  },
  {
   "cell_type": "code",
   "execution_count": 13,
   "metadata": {
    "scrolled": true
   },
   "outputs": [
    {
     "name": "stdout",
     "output_type": "stream",
     "text": [
      "가위(1), 바위(2), 보(3) 을 입력해주세요 :1\n",
      "유저 : 가위, 컴퓨터 : 가위\n",
      "가위(1), 바위(2), 보(3) 을 입력해주세요 :2\n",
      "유저 : 바위, 컴퓨터 : 가위\n",
      "가위(1), 바위(2), 보(3) 을 입력해주세요 :3\n",
      "유저 : 보, 컴퓨터 : 가위\n",
      "가위(1), 바위(2), 보(3) 을 입력해주세요 :4\n",
      "게임종료 (전체:3, 승리:1)\n"
     ]
    }
   ],
   "source": [
    "import random \n",
    "\n",
    "game_dict = {1 : \"가위\", 2 : \"바위\", 3 : \"보\"}\n",
    "total = 0\n",
    "win = 0\n",
    "user = 1\n",
    "com = 0\n",
    "\n",
    "while user == 1 or user == 2 or user == 3: # 0 < user < 4 /user in [1,2,3]\n",
    "    user = int(input(\"가위(1), 바위(2), 보(3) 을 입력해주세요 :\"))\n",
    "    com = random.randint(1,3)\n",
    "    \n",
    "    \n",
    "    if (user == 1 and com == 3) or (user == 2 and com == 1) or (user == 3 and com == 2): \n",
    "        win += 1\n",
    "        total += 1\n",
    "        print(f\"유저 : {game_dict[user]}, 컴퓨터 : {game_dict[com]}\")\n",
    "    elif user in [1, 2, 3]:\n",
    "        total += 1\n",
    "        print(f\"유저 : {game_dict[user]}, 컴퓨터 : {game_dict[com]}\")\n",
    "        \n",
    "print(f\"게임종료 (전체:{total}, 승리:{win})\")"
   ]
  },
  {
   "cell_type": "code",
   "execution_count": 63,
   "metadata": {},
   "outputs": [
    {
     "name": "stdout",
     "output_type": "stream",
     "text": [
      "숫자를 입력하세요. : 5\n",
      "0\n",
      "1\n",
      "2\n",
      "3\n",
      "4\n",
      "5\n"
     ]
    }
   ],
   "source": [
    "user = int(input(\"숫자를 입력하세요. : \"))\n",
    "cnt = 0\n",
    "while True:\n",
    "    \n",
    "    print(cnt)\n",
    "    cnt += 1\n",
    "    \n",
    "    if cnt > user:\n",
    "        break"
   ]
  },
  {
   "cell_type": "code",
   "execution_count": 33,
   "metadata": {},
   "outputs": [
    {
     "name": "stdout",
     "output_type": "stream",
     "text": [
      "숫자를 입력하세요. : 20\n",
      "0\n",
      "2\n",
      "4\n",
      "6\n",
      "8\n",
      "10\n",
      "12\n",
      "14\n",
      "16\n",
      "18\n",
      "20\n"
     ]
    }
   ],
   "source": [
    "user = int(input(\"숫자를 입력하세요. : \"))\n",
    "\n",
    "for i in range(user+1):\n",
    "    \n",
    "    if i % 2 == 1:\n",
    "        continue\n",
    "         \n",
    "    print(i)\n",
    "    i += 1"
   ]
  },
  {
   "cell_type": "code",
   "execution_count": 64,
   "metadata": {},
   "outputs": [
    {
     "name": "stdout",
     "output_type": "stream",
     "text": [
      "[0, 1, 2, 3, 4, 5, 6, 7, 8, 9]\n"
     ]
    }
   ],
   "source": [
    "a = []\n",
    "for i in range(10):\n",
    "    a.append(i)\n",
    "print(a)"
   ]
  },
  {
   "cell_type": "code",
   "execution_count": 67,
   "metadata": {},
   "outputs": [
    {
     "name": "stdout",
     "output_type": "stream",
     "text": [
      "[0, 1, 4, 9, 16, 25, 36, 49, 64, 81]\n"
     ]
    }
   ],
   "source": [
    "a = [i * i for i in range(10)]\n",
    "print(a)"
   ]
  },
  {
   "cell_type": "code",
   "execution_count": 71,
   "metadata": {},
   "outputs": [
    {
     "data": {
      "text/plain": [
       "['school', 'science', 'mountain']"
      ]
     },
     "execution_count": 71,
     "metadata": {},
     "output_type": "execute_result"
    }
   ],
   "source": [
    "words = [\"school\",\"game\",\"piano\",\"science\",\"hotel\",\"mountain\"]\n",
    "\n",
    "word = [i for i in words if len(i) >= 6]\n",
    "word"
   ]
  },
  {
   "cell_type": "code",
   "execution_count": 72,
   "metadata": {},
   "outputs": [
    {
     "data": {
      "text/plain": [
       "[6, 4, 5, 7, 5, 8]"
      ]
     },
     "execution_count": 72,
     "metadata": {},
     "output_type": "execute_result"
    }
   ],
   "source": [
    "words = [\"school\",\"game\",\"piano\",\"science\",\"hotel\",\"mountain\"]\n",
    "\n",
    "word = [len(i) for i in words]\n",
    "word"
   ]
  },
  {
   "cell_type": "code",
   "execution_count": 139,
   "metadata": {},
   "outputs": [
    {
     "name": "stdout",
     "output_type": "stream",
     "text": [
      "[[20, 60], [120, 200], [300, 420]]\n"
     ]
    }
   ],
   "source": [
    "a = [[10,20],[30,40],[50,60]]\n",
    "b = [[2,3],[4,5],[6,7]]\n",
    "\n",
    "c = []\n",
    "\n",
    "for i in range(len(a)):\n",
    "    temp = []\n",
    "    for j in range(len(a[i])):\n",
    "        temp.append(a[i][j]*b[i][j])\n",
    "    c.append(temp)\n",
    "\n",
    "print(c)\n"
   ]
  },
  {
   "cell_type": "code",
   "execution_count": 152,
   "metadata": {},
   "outputs": [
    {
     "name": "stdout",
     "output_type": "stream",
     "text": [
      "[[1, 2], [3, 4], [5, 6]]\n"
     ]
    }
   ],
   "source": [
    "a = []\n",
    "\n",
    "for i in range(3):\n",
    "    temp = []\n",
    "    for j in range(2):\n",
    "        temp.append((i*2)+(j+1))\n",
    "    a.append(temp)\n",
    "    \n",
    "print(a)"
   ]
  },
  {
   "cell_type": "code",
   "execution_count": 153,
   "metadata": {},
   "outputs": [
    {
     "name": "stdout",
     "output_type": "stream",
     "text": [
      "[[20, 60], [120, 200], [300, 420]]\n"
     ]
    }
   ],
   "source": [
    "a = [[10,20],[30,40],[50,60]]\n",
    "b = [[2,3],[4,5],[6,7]]\n",
    "\n",
    "c = []\n",
    "for i in range(len(a)):\n",
    "    temp = []\n",
    "    for j in range(len(a[i])):\n",
    "        temp.append(a[i][j]*b[i][j])\n",
    "        \n",
    "    c.append(temp)\n",
    "\n",
    "print(c)"
   ]
  },
  {
   "cell_type": "code",
   "execution_count": 156,
   "metadata": {},
   "outputs": [
    {
     "name": "stdout",
     "output_type": "stream",
     "text": [
      "[[1, 2], [3, 4], [5, 6]]\n"
     ]
    }
   ],
   "source": [
    "a = []\n",
    "\n",
    "for i in range(3):\n",
    "    temp = []\n",
    "    for j in range(2):\n",
    "        temp.append(j + 1 + 2 *i)\n",
    "    a.append(temp)\n",
    "    \n",
    "print(a)"
   ]
  },
  {
   "cell_type": "code",
   "execution_count": 173,
   "metadata": {
    "scrolled": true
   },
   "outputs": [
    {
     "name": "stdout",
     "output_type": "stream",
     "text": [
      "이전 게임 결과 (전체:1, 승리:0)\n",
      "가위(1), 바위(2), 보(3) 을 입력해주세요 :1\n",
      "유저 : 가위, 컴퓨터 : 바위\n",
      "가위(1), 바위(2), 보(3) 을 입력해주세요 :2\n",
      "유저 : 바위, 컴퓨터 : 보\n",
      "가위(1), 바위(2), 보(3) 을 입력해주세요 :3\n",
      "유저 : 보, 컴퓨터 : 보\n",
      "가위(1), 바위(2), 보(3) 을 입력해주세요 :4\n",
      "게임종료 (전체:3, 승리:0)\n"
     ]
    }
   ],
   "source": [
    "import random \n",
    "import pickle\n",
    "\n",
    "game_dict = {1 : \"가위\", 2 : \"바위\", 3 : \"보\"}\n",
    "total = 0\n",
    "win = 0\n",
    "user = 1\n",
    "com = 0\n",
    "\n",
    "with open(\"rps_data.pkl\",\"rb\") as file:\n",
    "    total2 = pickle.load(file)\n",
    "    win2 = pickle.load(file)\n",
    "    \n",
    "print(f\"이전 게임 결과 (전체:{total2}, 승리:{win2})\")\n",
    "\n",
    "while user == 1 or user == 2 or user == 3: # 0 < user < 4 /user in [1,2,3]\n",
    "    user = int(input(\"가위(1), 바위(2), 보(3) 을 입력해주세요 :\"))\n",
    "    com = random.randint(1,3)\n",
    "    \n",
    "    if (user == 1 and com == 3) or (user == 2 and com == 1) or (user == 3 and com == 2): \n",
    "        win += 1\n",
    "        total += 1\n",
    "        print(f\"유저 : {game_dict[user]}, 컴퓨터 : {game_dict[com]}\")\n",
    "    elif user in [1, 2, 3]:\n",
    "        total += 1\n",
    "        print(f\"유저 : {game_dict[user]}, 컴퓨터 : {game_dict[com]}\")\n",
    "        \n",
    "print(f\"게임종료 (전체:{total}, 승리:{win})\")\n",
    "\n",
    "with open(\"rps_data.pkl\",\"wb\") as file:\n",
    "    pickle.dump(total,file)\n",
    "    pickle.dump(win,file)\n",
    "\n"
   ]
  },
  {
   "cell_type": "code",
   "execution_count": null,
   "metadata": {},
   "outputs": [],
   "source": [
    "### total, win save\n",
    "\n",
    "import pickle\n",
    "\n",
    "total = 0\n",
    "win = 0\n",
    "\n",
    "with open(\"rps_data.pkl\",\"wb\") as file:\n",
    "    pickle.dump(total,file)\n",
    "    pickle.dump(win,file)"
   ]
  },
  {
   "cell_type": "code",
   "execution_count": 162,
   "metadata": {},
   "outputs": [
    {
     "name": "stdout",
     "output_type": "stream",
     "text": [
      "0 0\n"
     ]
    }
   ],
   "source": [
    "#total, win load\n",
    "\n",
    "import pickle\n",
    "\n",
    "with open(\"rps_data.pkl\",\"rb\") as file:\n",
    "    total2 = pickle.load(file)\n",
    "    win2 = pickle.load(file)\n",
    "    \n",
    "print(total2,win2)"
   ]
  },
  {
   "cell_type": "code",
   "execution_count": 2,
   "metadata": {},
   "outputs": [
    {
     "name": "stdout",
     "output_type": "stream",
     "text": [
      "가위(1), 바위(2), 보(3) 을 입력해주세요 :1\n",
      "유저 : 가위, 컴퓨터 : 가위\n",
      "가위(1), 바위(2), 보(3) 을 입력해주세요 :2\n",
      "유저 : 바위, 컴퓨터 : 보\n",
      "가위(1), 바위(2), 보(3) 을 입력해주세요 :3\n",
      "유저 : 보, 컴퓨터 : 가위\n",
      "가위(1), 바위(2), 보(3) 을 입력해주세요 :4\n",
      "게임종료 (전체:18, 승리:4)\n"
     ]
    }
   ],
   "source": [
    "import random \n",
    "import pickle\n",
    "\n",
    "game_dict = {1 : \"가위\", 2 : \"바위\", 3 : \"보\"}\n",
    "total = 0\n",
    "win = 0\n",
    "user = 1\n",
    "com = 0\n",
    "\n",
    "with open(\"rps_data.pkl\",\"rb\") as file:\n",
    "    total = pickle.load(file)\n",
    "    win = pickle.load(file)\n",
    "\n",
    "while user == 1 or user == 2 or user == 3: # 0 < user < 4 /user in [1,2,3]\n",
    "    user = int(input(\"가위(1), 바위(2), 보(3) 을 입력해주세요 :\"))\n",
    "    com = random.randint(1,3)\n",
    "    \n",
    "    if (user == 1 and com == 3) or (user == 2 and com == 1) or (user == 3 and com == 2): \n",
    "        win += 1\n",
    "        total += 1\n",
    "        print(f\"유저 : {game_dict[user]}, 컴퓨터 : {game_dict[com]}\")\n",
    "    elif user in [1, 2, 3]:\n",
    "        total += 1\n",
    "        print(f\"유저 : {game_dict[user]}, 컴퓨터 : {game_dict[com]}\")\n",
    "        \n",
    "print(f\"게임종료 (전체:{total}, 승리:{win})\")\n",
    "\n",
    "with open(\"rps_data.pkl\",\"wb\") as file:\n",
    "    pickle.dump(total,file)\n",
    "    pickle.dump(win,file)\n",
    "\n"
   ]
  },
  {
   "cell_type": "code",
   "execution_count": 1,
   "metadata": {},
   "outputs": [
    {
     "ename": "FileNotFoundError",
     "evalue": "[Errno 2] No such file or directory: 'rps_data.pkl'",
     "output_type": "error",
     "traceback": [
      "\u001b[1;31m---------------------------------------------------------------------------\u001b[0m",
      "\u001b[1;31mFileNotFoundError\u001b[0m                         Traceback (most recent call last)",
      "\u001b[1;32m<ipython-input-1-87697c5bd3da>\u001b[0m in \u001b[0;36m<module>\u001b[1;34m\u001b[0m\n\u001b[0;32m      8\u001b[0m \u001b[0mcom\u001b[0m \u001b[1;33m=\u001b[0m \u001b[1;36m0\u001b[0m\u001b[1;33m\u001b[0m\u001b[1;33m\u001b[0m\u001b[0m\n\u001b[0;32m      9\u001b[0m \u001b[1;33m\u001b[0m\u001b[0m\n\u001b[1;32m---> 10\u001b[1;33m \u001b[1;32mwith\u001b[0m \u001b[0mopen\u001b[0m\u001b[1;33m(\u001b[0m\u001b[1;34m\"rps_data.pkl\"\u001b[0m\u001b[1;33m,\u001b[0m\u001b[1;34m\"rb\"\u001b[0m\u001b[1;33m)\u001b[0m \u001b[1;32mas\u001b[0m \u001b[0mfile\u001b[0m\u001b[1;33m:\u001b[0m\u001b[1;33m\u001b[0m\u001b[1;33m\u001b[0m\u001b[0m\n\u001b[0m\u001b[0;32m     11\u001b[0m     \u001b[0mtotal\u001b[0m \u001b[1;33m=\u001b[0m \u001b[0mpickle\u001b[0m\u001b[1;33m.\u001b[0m\u001b[0mload\u001b[0m\u001b[1;33m(\u001b[0m\u001b[0mfile\u001b[0m\u001b[1;33m)\u001b[0m\u001b[1;33m\u001b[0m\u001b[1;33m\u001b[0m\u001b[0m\n\u001b[0;32m     12\u001b[0m     \u001b[0mwin\u001b[0m \u001b[1;33m=\u001b[0m \u001b[0mpickle\u001b[0m\u001b[1;33m.\u001b[0m\u001b[0mload\u001b[0m\u001b[1;33m(\u001b[0m\u001b[0mfile\u001b[0m\u001b[1;33m)\u001b[0m\u001b[1;33m\u001b[0m\u001b[1;33m\u001b[0m\u001b[0m\n",
      "\u001b[1;31mFileNotFoundError\u001b[0m: [Errno 2] No such file or directory: 'rps_data.pkl'"
     ]
    }
   ],
   "source": [
    "import random \n",
    "import pickle\n",
    "\n",
    "game_dict = {1 : \"가위\", 2 : \"바위\", 3 : \"보\"}\n",
    "total = 0\n",
    "win = 0\n",
    "user = 1\n",
    "com = 0\n",
    "\n",
    "with open(\"rps_data.pkl\",\"rb\") as file:\n",
    "    total = pickle.load(file)\n",
    "    win = pickle.load(file)\n",
    "\n",
    "while user == 1 or user == 2 or user == 3: # 0 < user < 4 /user in [1,2,3]\n",
    "    user = int(input(\"가위(1), 바위(2), 보(3) 을 입력해주세요 :\"))\n",
    "    com = random.randint(1,3)\n",
    "    \n",
    "    if (user == 1 and com == 3) or (user == 2 and com == 1) or (user == 3 and com == 2): \n",
    "        win += 1\n",
    "        total += 1\n",
    "        print(f\"유저 : {game_dict[user]}, 컴퓨터 : {game_dict[com]}\")\n",
    "    elif user in [1, 2, 3]:\n",
    "        total += 1\n",
    "        print(f\"유저 : {game_dict[user]}, 컴퓨터 : {game_dict[com]}\")\n",
    "        \n",
    "print(f\"게임종료 (전체:{total}, 승리:{win})\")\n",
    "\n",
    "with open(\"rps_data.pkl\",\"wb\") as file:\n",
    "    pickle.dump(total,file)\n",
    "    pickle.dump(win,file)\n",
    "\n"
   ]
  },
  {
   "cell_type": "code",
   "execution_count": null,
   "metadata": {},
   "outputs": [],
   "source": []
  }
 ],
 "metadata": {
  "kernelspec": {
   "display_name": "Python 3",
   "language": "python",
   "name": "python3"
  },
  "language_info": {
   "codemirror_mode": {
    "name": "ipython",
    "version": 3
   },
   "file_extension": ".py",
   "mimetype": "text/x-python",
   "name": "python",
   "nbconvert_exporter": "python",
   "pygments_lexer": "ipython3",
   "version": "3.8.5"
  }
 },
 "nbformat": 4,
 "nbformat_minor": 4
}
