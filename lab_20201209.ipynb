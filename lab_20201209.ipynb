{
 "cells": [
  {
   "cell_type": "markdown",
   "metadata": {},
   "source": [
    "## 딕셔너리"
   ]
  },
  {
   "cell_type": "code",
   "execution_count": 2,
   "metadata": {},
   "outputs": [
    {
     "name": "stdout",
     "output_type": "stream",
     "text": [
      "이름을 입력해주세요 : 홍길동\n",
      "나이를 입력해주세요 : 27\n",
      "연락처를 입력해주세요 : 010-1234-5678\n"
     ]
    },
    {
     "data": {
      "text/plain": [
       "{'이름': '홍길동', '나이': '27', '연락처': '010-1234-5678'}"
      ]
     },
     "execution_count": 2,
     "metadata": {},
     "output_type": "execute_result"
    }
   ],
   "source": [
    "name = input(\"이름을 입력해주세요 : \")\n",
    "age = input(\"나이를 입력해주세요 : \")\n",
    "tel = input(\"연락처를 입력해주세요 : \")\n",
    "\n",
    "phone = {\"이름\": name,\"나이\": age, \"연락처\": tel}\n",
    "phone"
   ]
  },
  {
   "cell_type": "code",
   "execution_count": 3,
   "metadata": {},
   "outputs": [
    {
     "name": "stdout",
     "output_type": "stream",
     "text": [
      "이름을 입력해주세요 : 홍길동\n",
      "나이를 입력해주세요 : 27\n",
      "연락처를 입력해주세요 : 010-1234-5678\n",
      "이름을 입력해주세요 : 이몽룡\n",
      "나이를 입력해주세요 : 30\n",
      "연락처를 입력해주세요 : 010-1234-5678\n"
     ]
    },
    {
     "data": {
      "text/plain": [
       "[{'이름': '홍길동', '나이': '27', '연락처': '010-1234-5678'},\n",
       " {'이름': '이몽룡', '나이': '30', '연락처': '010-1234-5678'}]"
      ]
     },
     "execution_count": 3,
     "metadata": {},
     "output_type": "execute_result"
    }
   ],
   "source": [
    "name1 = input(\"이름을 입력해주세요 : \")\n",
    "age1 = input(\"나이를 입력해주세요 : \")\n",
    "tel1 = input(\"연락처를 입력해주세요 : \")\n",
    "name2 = input(\"이름을 입력해주세요 : \")\n",
    "age2 = input(\"나이를 입력해주세요 : \")\n",
    "tel2 = input(\"연락처를 입력해주세요 : \")\n",
    "\n",
    "phone = [{\"이름\": name1,\"나이\": age1, \"연락처\": tel1},{\"이름\": name2, \"나이\": age2, \"연락처\": tel2}]\n",
    "phone"
   ]
  },
  {
   "cell_type": "code",
   "execution_count": 5,
   "metadata": {},
   "outputs": [
    {
     "name": "stdout",
     "output_type": "stream",
     "text": [
      "이름을 입력해주세요 : 홍길동\n",
      "나이를 입력해주세요 : 27\n",
      "연락처를 입력해주세요 : 010-1234-5678\n"
     ]
    },
    {
     "data": {
      "text/plain": [
       "{'이름': '홍길동', '나이': '27', '연락처': '010-1234-5678'}"
      ]
     },
     "execution_count": 5,
     "metadata": {},
     "output_type": "execute_result"
    }
   ],
   "source": [
    "name = input(\"이름을 입력해주세요 : \")\n",
    "age = input(\"나이를 입력해주세요 : \")\n",
    "tel = input(\"연락처를 입력해주세요 : \")\n",
    "\n",
    "phone = dict(이름=name, 나이=age, 연락처=tel)\n",
    "phone"
   ]
  },
  {
   "cell_type": "code",
   "execution_count": 10,
   "metadata": {},
   "outputs": [
    {
     "name": "stdout",
     "output_type": "stream",
     "text": [
      "이름을 입력해주세요 : 홍길동\n",
      "나이를 입력해주세요 : 27\n",
      "연락처를 입력해주세요 : 010-1234-5678\n",
      "이름을 입력해주세요 : 이몽룡\n",
      "나이를 입력해주세요 : 30\n",
      "연락처를 입력해주세요 : 010-1234-5678\n"
     ]
    },
    {
     "data": {
      "text/plain": [
       "({'이름': '홍길동', '나이': '27', '연락처': '010-1234-5678'},\n",
       " {'이름': '이몽룡', '나이': '30', '연락처': '010-1234-5678'})"
      ]
     },
     "execution_count": 10,
     "metadata": {},
     "output_type": "execute_result"
    }
   ],
   "source": [
    "name1 = input(\"이름을 입력해주세요 : \")\n",
    "age1 = input(\"나이를 입력해주세요 : \")\n",
    "tel1 = input(\"연락처를 입력해주세요 : \")\n",
    "name2 = input(\"이름을 입력해주세요 : \")\n",
    "age2 = input(\"나이를 입력해주세요 : \")\n",
    "tel2 = input(\"연락처를 입력해주세요 : \")\n",
    "\n",
    "phone = dict(이름=name1, 나이=age1, 연락처=tel1),dict(이름=name2, 나이=age2, 연락처=tel2)\n",
    "phone\n"
   ]
  },
  {
   "cell_type": "code",
   "execution_count": 11,
   "metadata": {},
   "outputs": [
    {
     "name": "stdout",
     "output_type": "stream",
     "text": [
      "이름을 입력해주세요 : 홍길동\n",
      "나이를 입력해주세요 : 27\n",
      "연락처를 입력해주세요 : 010-1234-5678\n"
     ]
    }
   ],
   "source": [
    "name1 = input(\"이름을 입력해주세요 : \")\n",
    "age1 = input(\"나이를 입력해주세요 : \")\n",
    "tel1 = input(\"연락처를 입력해주세요 : \")"
   ]
  },
  {
   "cell_type": "code",
   "execution_count": 12,
   "metadata": {},
   "outputs": [
    {
     "name": "stdout",
     "output_type": "stream",
     "text": [
      "이름을 입력해주세요 : 이몽룡\n",
      "나이를 입력해주세요 : 30\n",
      "연락처를 입력해주세요 : 010-1234-5678\n"
     ]
    }
   ],
   "source": [
    "name2 = input(\"이름을 입력해주세요 : \")\n",
    "age2 = input(\"나이를 입력해주세요 : \")\n",
    "tel2 = input(\"연락처를 입력해주세요 : \")"
   ]
  },
  {
   "cell_type": "code",
   "execution_count": 13,
   "metadata": {},
   "outputs": [],
   "source": [
    "contacts = []"
   ]
  },
  {
   "cell_type": "code",
   "execution_count": 14,
   "metadata": {},
   "outputs": [],
   "source": [
    "contacts.append({'이름':name1,'나이':age1,'연락처':tel1})"
   ]
  },
  {
   "cell_type": "code",
   "execution_count": 15,
   "metadata": {},
   "outputs": [
    {
     "data": {
      "text/plain": [
       "[{'이름': '홍길동', '나이': '27', '연락처': '010-1234-5678'}]"
      ]
     },
     "execution_count": 15,
     "metadata": {},
     "output_type": "execute_result"
    }
   ],
   "source": [
    "contacts"
   ]
  },
  {
   "cell_type": "code",
   "execution_count": 16,
   "metadata": {},
   "outputs": [],
   "source": [
    "contacts.append({'이름':name2,'나이':age2,'연락처':tel2})"
   ]
  },
  {
   "cell_type": "code",
   "execution_count": 17,
   "metadata": {},
   "outputs": [
    {
     "data": {
      "text/plain": [
       "[{'이름': '홍길동', '나이': '27', '연락처': '010-1234-5678'},\n",
       " {'이름': '이몽룡', '나이': '30', '연락처': '010-1234-5678'}]"
      ]
     },
     "execution_count": 17,
     "metadata": {},
     "output_type": "execute_result"
    }
   ],
   "source": [
    "contacts"
   ]
  },
  {
   "cell_type": "markdown",
   "metadata": {},
   "source": [
    "## 조건문 if"
   ]
  },
  {
   "cell_type": "code",
   "execution_count": 30,
   "metadata": {},
   "outputs": [
    {
     "name": "stdout",
     "output_type": "stream",
     "text": [
      "첫번째 점수를 입력해주세요 : 50\n",
      "두번째 점수를 입력해주세요 : 60\n",
      "세번째 점수를 입력해주세요 : 90\n"
     ]
    }
   ],
   "source": [
    "score_1=input(\"첫번째 점수를 입력해주세요 : \")\n",
    "score_2=input(\"두번째 점수를 입력해주세요 : \")\n",
    "score_3=input(\"세번째 점수를 입력해주세요 : \")"
   ]
  },
  {
   "cell_type": "code",
   "execution_count": 31,
   "metadata": {},
   "outputs": [
    {
     "name": "stdout",
     "output_type": "stream",
     "text": [
      "불합격\n"
     ]
    }
   ],
   "source": [
    "if 0 < int(score_1) | int(score_1) >100 :\n",
    "    print(\"잘못된 점수가 입력되었습니다\")\n",
    "elif 0 < int(score_2) | int(score_2) >100 :\n",
    "    print(\"잘못된 점수가 입력되었습니다\")\n",
    "elif 0 < int(score_3) | int(score_3) >100 :\n",
    "    print(\"잘못된 점수가 입력되었습니다\") \n",
    "elif int(score_1) >= 65 and int(score_2) >= 65 and int(score_3) >= 65:\n",
    "    print(\"합격\")\n",
    "else:\n",
    "    print(\"불합격\")"
   ]
  },
  {
   "cell_type": "code",
   "execution_count": 32,
   "metadata": {},
   "outputs": [
    {
     "name": "stdout",
     "output_type": "stream",
     "text": [
      "첫번째 점수를 입력해주세요 : 120\n",
      "두번째 점수를 입력해주세요 : 90\n",
      "세번째 점수를 입력해주세요 : 80\n",
      "잘못된 점수가 입력되었습니다\n"
     ]
    }
   ],
   "source": [
    "score_1=input(\"첫번째 점수를 입력해주세요 : \")\n",
    "score_2=input(\"두번째 점수를 입력해주세요 : \")\n",
    "score_3=input(\"세번째 점수를 입력해주세요 : \")\n",
    "\n",
    "if 0 < int(score_1) | int(score_1) >100 :\n",
    "    print(\"잘못된 점수가 입력되었습니다\")\n",
    "elif 0 < int(score_2) | int(score_2) >100 :\n",
    "    print(\"잘못된 점수가 입력되었습니다\")\n",
    "elif 0 < int(score_3) | int(score_3) >100 :\n",
    "    print(\"잘못된 점수가 입력되었습니다\") \n",
    "elif int(score_1) >= 65 and int(score_2) >= 65 and int(score_3) >= 65:\n",
    "    print(\"합격\")\n",
    "else:\n",
    "    print(\"불합격\")"
   ]
  },
  {
   "cell_type": "code",
   "execution_count": 55,
   "metadata": {},
   "outputs": [],
   "source": [
    "fruit={'사과','오렌지'}\n",
    "vegetable={'당근','호박'}"
   ]
  },
  {
   "cell_type": "code",
   "execution_count": 88,
   "metadata": {},
   "outputs": [
    {
     "name": "stdout",
     "output_type": "stream",
     "text": [
      "등록할 카테고리를 선택해주세요(과일,채소) : 채소\n",
      "등록할 채소를 입력해주세요 : 오이\n"
     ]
    }
   ],
   "source": [
    "cat=input(\"등록할 카테고리를 선택해주세요(과일,채소) : \")\n",
    "veg=input(\"등록할 {}를 입력해주세요 : \".format(cat))"
   ]
  },
  {
   "cell_type": "code",
   "execution_count": 91,
   "metadata": {},
   "outputs": [
    {
     "name": "stdout",
     "output_type": "stream",
     "text": [
      "{'호박', '오이', '당근'}\n"
     ]
    }
   ],
   "source": [
    "if cat == \"채소\":\n",
    "    vegetable.add(veg)\n",
    "    if vegetable.isdisjoint(cat) == False:\n",
    "        print(\"이미 등록된 {}입니다.\".format(cat))\n",
    "    else:\n",
    "        print(vegetable)\n",
    "    \n",
    "elif cat == \"과일\":\n",
    "    fruit.add(veg)\n",
    "    if fruit.isdisjoint(cat) == False:\n",
    "        print(\"이미 등록된 {}입니다.\".format(cat))\n",
    "    else:\n",
    "        print(fruit)\n",
    "        \n",
    "else:\n",
    "        print(\"존재하지 않는 카테고리입니다.\")"
   ]
  },
  {
   "cell_type": "code",
   "execution_count": 96,
   "metadata": {},
   "outputs": [
    {
     "name": "stdout",
     "output_type": "stream",
     "text": [
      "{'호박', '오이', '당근'}\n"
     ]
    }
   ],
   "source": [
    "if cat == \"채소\":\n",
    "    if vegetable.isdisjoint(veg) == False:\n",
    "        print(\"이미 등록된 {}입니다.\".format(cat))\n",
    "    else:\n",
    "        vegetable.add(veg)\n",
    "        print(vegetable)\n",
    "    \n",
    "elif cat == \"과일\":\n",
    "    if fruit.isdisjoint(veg) == False:\n",
    "        print(\"이미 등록된 {}입니다.\".format(cat))\n",
    "    else:\n",
    "        fruit.add(veg)\n",
    "        print(fruit)\n",
    "        \n",
    "else:\n",
    "        print(\"존재하지 않는 카테고리입니다.\")"
   ]
  },
  {
   "cell_type": "code",
   "execution_count": 97,
   "metadata": {},
   "outputs": [],
   "source": [
    "fruit = ['사과','오렌지']\n",
    "vegetable = ['당근','호박']"
   ]
  },
  {
   "cell_type": "code",
   "execution_count": 98,
   "metadata": {},
   "outputs": [
    {
     "name": "stdout",
     "output_type": "stream",
     "text": [
      "등록할 카테고리를 선택해주세요(과일,채소) : 채소\n"
     ]
    }
   ],
   "source": [
    "category=input(\"등록할 카테고리를 선택해주세요(과일,채소) : \")"
   ]
  },
  {
   "cell_type": "code",
   "execution_count": 99,
   "metadata": {},
   "outputs": [
    {
     "name": "stdout",
     "output_type": "stream",
     "text": [
      "등록할 채소를 입력해주세요 : 당근\n"
     ]
    }
   ],
   "source": [
    "item=input(\"등록할 {}를 입력해주세요 : \".format(category))"
   ]
  },
  {
   "cell_type": "code",
   "execution_count": 100,
   "metadata": {},
   "outputs": [
    {
     "name": "stdout",
     "output_type": "stream",
     "text": [
      "이미 등록된 채소입니다.\n"
     ]
    }
   ],
   "source": [
    "if category in [\"과일\",\"채소\"]:\n",
    "    if category == \"과일\":\n",
    "        if item in fruit:\n",
    "            print(\"이미 등록된 {}입니다.\".format(category))\n",
    "        else:\n",
    "            fruit.append(item)\n",
    "            print(fruit)\n",
    "    else:\n",
    "        if item in vegetable:\n",
    "            print(\"이미 등록된 {}입니다.\".format(category))\n",
    "        else:\n",
    "            vegetable.append(item)\n",
    "            print(vegetable)\n",
    "            \n",
    "else:\n",
    "    print(\"존재하지 않는 카테고리입니다.\")"
   ]
  },
  {
   "cell_type": "markdown",
   "metadata": {},
   "source": [
    "## 반복문 for"
   ]
  },
  {
   "cell_type": "code",
   "execution_count": 101,
   "metadata": {},
   "outputs": [],
   "source": [
    "x=[3,6,9,20,-7,5]"
   ]
  },
  {
   "cell_type": "code",
   "execution_count": 110,
   "metadata": {},
   "outputs": [
    {
     "name": "stdout",
     "output_type": "stream",
     "text": [
      "30 60 90 200 -70 50 "
     ]
    }
   ],
   "source": [
    "for i in x:\n",
    "    print(i*10,end=\" \")"
   ]
  },
  {
   "cell_type": "code",
   "execution_count": 111,
   "metadata": {},
   "outputs": [],
   "source": [
    "y={\"math\":70,\"science\":80,\"english\":20}"
   ]
  },
  {
   "cell_type": "code",
   "execution_count": 167,
   "metadata": {
    "scrolled": true
   },
   "outputs": [
    {
     "name": "stdout",
     "output_type": "stream",
     "text": [
      "math 80 science 90 english 30 "
     ]
    }
   ],
   "source": [
    "for i in y:\n",
    "    print(i,end=\" \"),print(y[i]+10,end=\" \")"
   ]
  },
  {
   "cell_type": "code",
   "execution_count": 152,
   "metadata": {},
   "outputs": [],
   "source": [
    "y={\"math\":70,\"science\":80,\"english\":20}"
   ]
  },
  {
   "cell_type": "code",
   "execution_count": 183,
   "metadata": {},
   "outputs": [
    {
     "name": "stdout",
     "output_type": "stream",
     "text": [
      "math:80 science:90 english:30 "
     ]
    }
   ],
   "source": [
    "for key, value in y.items():\n",
    "    print(\"{0}:{1}\".format(key,value+10),end=\" \")"
   ]
  },
  {
   "cell_type": "code",
   "execution_count": 154,
   "metadata": {},
   "outputs": [
    {
     "name": "stdout",
     "output_type": "stream",
     "text": [
      "몇단을 출력하시겠습니까? 3\n",
      "3 * 1 = 3\n",
      "3 * 2 = 6\n",
      "3 * 3 = 9\n",
      "3 * 4 = 12\n",
      "3 * 5 = 15\n",
      "3 * 6 = 18\n",
      "3 * 7 = 21\n",
      "3 * 8 = 24\n",
      "3 * 9 = 27\n"
     ]
    }
   ],
   "source": [
    "num=int(input(\"몇단을 출력하시겠습니까? \"))\n",
    "for i in range(1,10):\n",
    "    print(num,\"*\",i,\"=\",num*i)"
   ]
  },
  {
   "cell_type": "code",
   "execution_count": 184,
   "metadata": {},
   "outputs": [],
   "source": [
    "x=[3,6,9,20,-7,5]"
   ]
  },
  {
   "cell_type": "code",
   "execution_count": 185,
   "metadata": {},
   "outputs": [
    {
     "data": {
      "text/plain": [
       "[30, 60, 90, 200, -70, 50]"
      ]
     },
     "execution_count": 185,
     "metadata": {},
     "output_type": "execute_result"
    }
   ],
   "source": [
    "for idx in range(len(x)):\n",
    "    x[idx] = x[idx] * 10\n",
    "x"
   ]
  },
  {
   "cell_type": "code",
   "execution_count": 186,
   "metadata": {},
   "outputs": [],
   "source": [
    "y={\"math\":70,\"science\":80,\"english\":20}"
   ]
  },
  {
   "cell_type": "code",
   "execution_count": 187,
   "metadata": {},
   "outputs": [
    {
     "data": {
      "text/plain": [
       "{'math': 80, 'science': 90, 'english': 30}"
      ]
     },
     "execution_count": 187,
     "metadata": {},
     "output_type": "execute_result"
    }
   ],
   "source": [
    "for score in y:\n",
    "    y[score] = y[score] + 10\n",
    "y"
   ]
  },
  {
   "cell_type": "code",
   "execution_count": 188,
   "metadata": {},
   "outputs": [
    {
     "name": "stdout",
     "output_type": "stream",
     "text": [
      "몇단을 출력하시겠습니까?3\n"
     ]
    }
   ],
   "source": [
    "dan = int(input(\"몇단을 출력하시겠습니까?\"))"
   ]
  },
  {
   "cell_type": "code",
   "execution_count": 189,
   "metadata": {},
   "outputs": [
    {
     "name": "stdout",
     "output_type": "stream",
     "text": [
      "3 * 1 = 3\n",
      "3 * 2 = 6\n",
      "3 * 3 = 9\n",
      "3 * 4 = 12\n",
      "3 * 5 = 15\n",
      "3 * 6 = 18\n",
      "3 * 7 = 21\n",
      "3 * 8 = 24\n"
     ]
    }
   ],
   "source": [
    "for i in range(1,9):\n",
    "    print(\"{} * {} = {}\".format(dan,i,dan * i))"
   ]
  },
  {
   "cell_type": "code",
   "execution_count": 190,
   "metadata": {},
   "outputs": [
    {
     "name": "stdout",
     "output_type": "stream",
     "text": [
      "3 * 1 = 3\n",
      "3 * 2 = 6\n",
      "3 * 3 = 9\n",
      "3 * 4 = 12\n",
      "3 * 5 = 15\n",
      "3 * 6 = 18\n",
      "3 * 7 = 21\n",
      "3 * 8 = 24\n"
     ]
    }
   ],
   "source": [
    "for i in range(1,9):\n",
    "    print(f\"{dan} * {i} = {dan*i}\")"
   ]
  },
  {
   "cell_type": "code",
   "execution_count": 359,
   "metadata": {},
   "outputs": [],
   "source": [
    "word=[\"school\",\"game\",\"piano\",\"science\",\"hotel\",\"mountain\"]"
   ]
  },
  {
   "cell_type": "code",
   "execution_count": 392,
   "metadata": {},
   "outputs": [
    {
     "name": "stdout",
     "output_type": "stream",
     "text": [
      "['school', 'piano', 'science', 'mountain']\n"
     ]
    }
   ],
   "source": [
    "word=[\"school\",\"game\",\"piano\",\"science\",\"hotel\",\"mountain\"]\n",
    "\n",
    "for i in word:\n",
    "    if len(i) >= 6:\n",
    "        pass\n",
    "    else:\n",
    "        word.remove(i)\n",
    "print(word)"
   ]
  },
  {
   "cell_type": "code",
   "execution_count": 375,
   "metadata": {
    "scrolled": false
   },
   "outputs": [
    {
     "name": "stdout",
     "output_type": "stream",
     "text": [
      "1 * 1 = 1\n",
      "1 * 2 = 2\n",
      "1 * 3 = 3\n",
      "1 * 4 = 4\n",
      "1 * 5 = 5\n",
      "1 * 6 = 6\n",
      "1 * 7 = 7\n",
      "1 * 8 = 8\n",
      "1 * 9 = 9\n",
      "2 * 1 = 2\n",
      "2 * 2 = 4\n",
      "2 * 3 = 6\n",
      "2 * 4 = 8\n",
      "2 * 5 = 10\n",
      "2 * 6 = 12\n",
      "2 * 7 = 14\n",
      "2 * 8 = 16\n",
      "2 * 9 = 18\n",
      "3 * 1 = 3\n",
      "3 * 2 = 6\n",
      "3 * 3 = 9\n",
      "3 * 4 = 12\n",
      "3 * 5 = 15\n",
      "3 * 6 = 18\n",
      "3 * 7 = 21\n",
      "3 * 8 = 24\n",
      "3 * 9 = 27\n",
      "4 * 1 = 4\n",
      "4 * 2 = 8\n",
      "4 * 3 = 12\n",
      "4 * 4 = 16\n",
      "4 * 5 = 20\n",
      "4 * 6 = 24\n",
      "4 * 7 = 28\n",
      "4 * 8 = 32\n",
      "4 * 9 = 36\n",
      "5 * 1 = 5\n",
      "5 * 2 = 10\n",
      "5 * 3 = 15\n",
      "5 * 4 = 20\n",
      "5 * 5 = 25\n",
      "5 * 6 = 30\n",
      "5 * 7 = 35\n",
      "5 * 8 = 40\n",
      "5 * 9 = 45\n",
      "6 * 1 = 6\n",
      "6 * 2 = 12\n",
      "6 * 3 = 18\n",
      "6 * 4 = 24\n",
      "6 * 5 = 30\n",
      "6 * 6 = 36\n",
      "6 * 7 = 42\n",
      "6 * 8 = 48\n",
      "6 * 9 = 54\n",
      "7 * 1 = 7\n",
      "7 * 2 = 14\n",
      "7 * 3 = 21\n",
      "7 * 4 = 28\n",
      "7 * 5 = 35\n",
      "7 * 6 = 42\n",
      "7 * 7 = 49\n",
      "7 * 8 = 56\n",
      "7 * 9 = 63\n",
      "8 * 1 = 8\n",
      "8 * 2 = 16\n",
      "8 * 3 = 24\n",
      "8 * 4 = 32\n",
      "8 * 5 = 40\n",
      "8 * 6 = 48\n",
      "8 * 7 = 56\n",
      "8 * 8 = 64\n",
      "8 * 9 = 72\n",
      "9 * 1 = 9\n",
      "9 * 2 = 18\n",
      "9 * 3 = 27\n",
      "9 * 4 = 36\n",
      "9 * 5 = 45\n",
      "9 * 6 = 54\n",
      "9 * 7 = 63\n",
      "9 * 8 = 72\n",
      "9 * 9 = 81\n"
     ]
    }
   ],
   "source": [
    "for x in range(1,10):\n",
    "    for y in range(1,10):\n",
    "        print(f\"{x} * {y} = {x*y}\")"
   ]
  },
  {
   "cell_type": "code",
   "execution_count": 376,
   "metadata": {},
   "outputs": [],
   "source": [
    "a= [3,4,6,20,-7,5]"
   ]
  },
  {
   "cell_type": "code",
   "execution_count": 384,
   "metadata": {},
   "outputs": [
    {
     "data": {
      "text/plain": [
       "range(0, 5)"
      ]
     },
     "execution_count": 384,
     "metadata": {},
     "output_type": "execute_result"
    }
   ],
   "source": [
    "range(len(a)-1)"
   ]
  },
  {
   "cell_type": "code",
   "execution_count": 385,
   "metadata": {},
   "outputs": [
    {
     "data": {
      "text/plain": [
       "[-7, 3, 4, 5, 6, 20]"
      ]
     },
     "execution_count": 385,
     "metadata": {},
     "output_type": "execute_result"
    }
   ],
   "source": [
    "for i in range(len(a)-1):          \n",
    "    for j in range(i+1,len(a)):\n",
    "        if a[i] > a[j]:\n",
    "            a[i], a[j] = a[j], a[i]\n",
    "a"
   ]
  },
  {
   "cell_type": "code",
   "execution_count": 387,
   "metadata": {
    "scrolled": false
   },
   "outputs": [
    {
     "name": "stdout",
     "output_type": "stream",
     "text": [
      "1\n",
      "2\n",
      "3의 공배수\n",
      "4\n",
      "5의 공배수\n",
      "3의 공배수\n",
      "7\n",
      "8\n",
      "3의 공배수\n",
      "5의 공배수\n",
      "11\n",
      "3의 공배수\n",
      "13\n",
      "14\n",
      "3과 5의 공배수\n",
      "16\n",
      "17\n",
      "3의 공배수\n",
      "19\n",
      "5의 공배수\n",
      "3의 공배수\n",
      "22\n",
      "23\n",
      "3의 공배수\n",
      "5의 공배수\n",
      "26\n",
      "3의 공배수\n",
      "28\n",
      "29\n",
      "3과 5의 공배수\n",
      "31\n",
      "32\n",
      "3의 공배수\n",
      "34\n",
      "5의 공배수\n",
      "3의 공배수\n",
      "37\n",
      "38\n",
      "3의 공배수\n",
      "5의 공배수\n",
      "41\n",
      "3의 공배수\n",
      "43\n",
      "44\n",
      "3과 5의 공배수\n",
      "46\n",
      "47\n",
      "3의 공배수\n",
      "49\n",
      "5의 공배수\n",
      "3의 공배수\n",
      "52\n",
      "53\n",
      "3의 공배수\n",
      "5의 공배수\n",
      "56\n",
      "3의 공배수\n",
      "58\n",
      "59\n",
      "3과 5의 공배수\n",
      "61\n",
      "62\n",
      "3의 공배수\n",
      "64\n",
      "5의 공배수\n",
      "3의 공배수\n",
      "67\n",
      "68\n",
      "3의 공배수\n",
      "5의 공배수\n",
      "71\n",
      "3의 공배수\n",
      "73\n",
      "74\n",
      "3과 5의 공배수\n",
      "76\n",
      "77\n",
      "3의 공배수\n",
      "79\n",
      "5의 공배수\n",
      "3의 공배수\n",
      "82\n",
      "83\n",
      "3의 공배수\n",
      "5의 공배수\n",
      "86\n",
      "3의 공배수\n",
      "88\n",
      "89\n",
      "3과 5의 공배수\n",
      "91\n",
      "92\n",
      "3의 공배수\n",
      "94\n",
      "5의 공배수\n",
      "3의 공배수\n",
      "97\n",
      "98\n",
      "3의 공배수\n",
      "5의 공배수\n"
     ]
    }
   ],
   "source": [
    "for i in range(1,101):\n",
    "    if i % 3 == 0 and i % 5 == 0:\n",
    "        print(\"3과 5의 공배수\")\n",
    "    elif i % 3 == 0:\n",
    "        print(\"3의 공배수\")\n",
    "    elif i % 5 == 0:\n",
    "        print(\"5의 공배수\")\n",
    "    else:\n",
    "        print(i)\n",
    "    "
   ]
  },
  {
   "cell_type": "markdown",
   "metadata": {},
   "source": [
    "## 반복문 while"
   ]
  },
  {
   "cell_type": "code",
   "execution_count": 201,
   "metadata": {},
   "outputs": [],
   "source": [
    "i = 0"
   ]
  },
  {
   "cell_type": "code",
   "execution_count": 203,
   "metadata": {},
   "outputs": [
    {
     "name": "stdout",
     "output_type": "stream",
     "text": [
      "5를 입력하면 반복이 중단됩니다.4\n",
      "5를 입력하면 반복이 중단됩니다.3\n",
      "5를 입력하면 반복이 중단됩니다.2\n",
      "5를 입력하면 반복이 중단됩니다.1\n",
      "5를 입력하면 반복이 중단됩니다.5\n"
     ]
    }
   ],
   "source": [
    "while i != 5:\n",
    "    i =int(input(\"5를 입력하면 반복이 중단됩니다.\"))"
   ]
  },
  {
   "cell_type": "code",
   "execution_count": 251,
   "metadata": {},
   "outputs": [
    {
     "name": "stdout",
     "output_type": "stream",
     "text": [
      "값을 입력해주세요 : 30\n",
      "값을 입력해주세요 : 20\n",
      "값을 입력해주세요 : 50\n",
      "값을 입력해주세요 : 40\n",
      "값을 입력해주세요 : 30\n",
      "값을 입력해주세요 : 0\n",
      "합계는?  170\n"
     ]
    }
   ],
   "source": [
    "sum = 0\n",
    "i=1\n",
    "\n",
    "while i != 0:\n",
    "    i = int(input(\"값을 입력해주세요 : \"))\n",
    "    sum = sum+i\n",
    "    \n",
    "print(\"합계는? \" , sum)"
   ]
  },
  {
   "cell_type": "code",
   "execution_count": 358,
   "metadata": {},
   "outputs": [
    {
     "name": "stdout",
     "output_type": "stream",
     "text": [
      "가위(1), 바위(2), 보(3) 을 입력해주세요 : 1\n",
      "유저 : 가위, 컴퓨터 : 바위\n",
      "가위(1), 바위(2), 보(3) 을 입력해주세요 : 2\n",
      "유저 : 바위, 컴퓨터 : 바위\n",
      "가위(1), 바위(2), 보(3) 을 입력해주세요 : 3\n",
      "유저 : 보, 컴퓨터 : 바위\n",
      "가위(1), 바위(2), 보(3) 을 입력해주세요 : 3\n",
      "유저 : 보, 컴퓨터 :가위\n",
      "가위(1), 바위(2), 보(3) 을 입력해주세요 : 4\n",
      "게임종료(전체:4, 승리:1)\n"
     ]
    }
   ],
   "source": [
    "import random\n",
    "\n",
    "win = 0\n",
    "lose = 0\n",
    "same = 0\n",
    "\n",
    "user = 1\n",
    "while (1 <= user <= 3):\n",
    "    com = random.random()\n",
    "    com = random.randint(1,3)\n",
    "    user = int(input(\"가위(1), 바위(2), 보(3) 을 입력해주세요 : \"))\n",
    "    \n",
    "    if com == 1:\n",
    "        if user == 1:\n",
    "            print(\"유저 : 가위, 컴퓨터 : 가위\")\n",
    "            same += 1\n",
    "        if user == 2:\n",
    "            print(\"유저 : 바위, 컴퓨터 : 가위\")\n",
    "            win += 1\n",
    "        if user == 3:\n",
    "            print(\"유저 : 보, 컴퓨터 :가위\")\n",
    "            lose += 1\n",
    "    \n",
    "    if com == 2:\n",
    "        if user == 1:\n",
    "            print(\"유저 : 가위, 컴퓨터 : 바위\")\n",
    "            lose += 1\n",
    "        if user == 2:\n",
    "            print(\"유저 : 바위, 컴퓨터 : 바위\")\n",
    "            same += 1\n",
    "        if user == 3:\n",
    "            print(\"유저 : 보, 컴퓨터 : 바위\")\n",
    "            win += 1\n",
    "            \n",
    "    if com == 3:\n",
    "        if user == 1:\n",
    "            print(\"유저 : 가위, 컴퓨터 : 보\")\n",
    "            win += 1\n",
    "        if user == 2:\n",
    "            print(\"유저 : 바위, 컴퓨터 : 보\")\n",
    "            lose += 1\n",
    "        if user == 3:\n",
    "            print(\"유저 : 보, 컴퓨터 : 보\")\n",
    "            same += 1\n",
    "            \n",
    "print(\"게임종료(전체:{}, 승리:{})\".format(win+lose+same,win))\n",
    "            "
   ]
  },
  {
   "cell_type": "code",
   "execution_count": 1,
   "metadata": {},
   "outputs": [
    {
     "name": "stdout",
     "output_type": "stream",
     "text": [
      "가위(1), 바위(2), 보(3) 을 입력해주세요 : 1\n",
      "유저 : 가위, 컴퓨터 : 보\n",
      "가위(1), 바위(2), 보(3) 을 입력해주세요 : 0\n",
      "게임종료(전체:1, 승리:1)\n"
     ]
    }
   ],
   "source": [
    "import random\n",
    "\n",
    "win = 0\n",
    "lose = 0\n",
    "same = 0\n",
    "\n",
    "user = 1\n",
    "while (1 <= user <= 3):\n",
    "    com = random.random()\n",
    "    com = random.randint(1,3)\n",
    "    user = int(input(\"가위(1), 바위(2), 보(3) 을 입력해주세요 : \"))\n",
    "    \n",
    "    if com == 1:\n",
    "        if user == 1:\n",
    "            print(\"유저 : 가위, 컴퓨터 : 가위\")\n",
    "            same += 1\n",
    "        if user == 2:\n",
    "            print(\"유저 : 바위, 컴퓨터 : 가위\")\n",
    "            win += 1\n",
    "        if user == 3:\n",
    "            print(\"유저 : 보, 컴퓨터 :가위\")\n",
    "            lose += 1\n",
    "    \n",
    "    if com == 2:\n",
    "        if user == 1:\n",
    "            print(\"유저 : 가위, 컴퓨터 : 바위\")\n",
    "            lose += 1\n",
    "        if user == 2:\n",
    "            print(\"유저 : 바위, 컴퓨터 : 바위\")\n",
    "            same += 1\n",
    "        if user == 3:\n",
    "            print(\"유저 : 보, 컴퓨터 : 바위\")\n",
    "            win += 1\n",
    "            \n",
    "    if com == 3:\n",
    "        if user == 1:\n",
    "            print(\"유저 : 가위, 컴퓨터 : 보\")\n",
    "            win += 1\n",
    "        if user == 2:\n",
    "            print(\"유저 : 바위, 컴퓨터 : 보\")\n",
    "            lose += 1\n",
    "        if user == 3:\n",
    "            print(\"유저 : 보, 컴퓨터 : 보\")\n",
    "            same += 1\n",
    "            \n",
    "print(\"게임종료(전체:{}, 승리:{})\".format(win+lose+same,win))\n",
    "            "
   ]
  },
  {
   "cell_type": "code",
   "execution_count": null,
   "metadata": {},
   "outputs": [],
   "source": []
  }
 ],
 "metadata": {
  "kernelspec": {
   "display_name": "Python 3",
   "language": "python",
   "name": "python3"
  },
  "language_info": {
   "codemirror_mode": {
    "name": "ipython",
    "version": 3
   },
   "file_extension": ".py",
   "mimetype": "text/x-python",
   "name": "python",
   "nbconvert_exporter": "python",
   "pygments_lexer": "ipython3",
   "version": "3.8.5"
  }
 },
 "nbformat": 4,
 "nbformat_minor": 4
}
