{
 "cells": [
  {
   "cell_type": "code",
   "execution_count": 165,
   "metadata": {},
   "outputs": [],
   "source": [
    "#클래스 실습 01 \n",
    "#name,cc,year\n",
    "\n",
    "class Car:\n",
    "    car_count = 0\n",
    "\n",
    "    def __init__(self,name,cc,year): #차이름 변경 함수 \n",
    "        self.__name = name\n",
    "        self.__cc = cc\n",
    "        self.__year = year\n",
    "        \n",
    "        Car.car_count += 1\n",
    "                \n",
    "    def name(self):\n",
    "        print(f\"{self.__name}\")\n",
    "        \n",
    "    def cc(self):\n",
    "        if int(self.__cc) < 1000:\n",
    "            print(\"소형\")\n",
    "        elif 1000 <= int(self.__cc) <= 2000:\n",
    "            print(\"중형\")\n",
    "        elif int(self.__cc) > 2000:\n",
    "            print(\"대형\")\n",
    "    \n",
    "    def changename(self):\n",
    "        newname = input(\"바꿀 이름 : \")\n",
    "        self.__name = newname\n",
    "        print(self.__name)\n",
    "            \n",
    "    @classmethod        \n",
    "    def carcount(self):\n",
    "        print(\"총 자동차 수는:\",Car.car_count,\"대\")"
   ]
  },
  {
   "cell_type": "code",
   "execution_count": 166,
   "metadata": {},
   "outputs": [],
   "source": [
    "k3 = Car(\"k3\",\"1000\",\"2020\")"
   ]
  },
  {
   "cell_type": "code",
   "execution_count": 167,
   "metadata": {},
   "outputs": [],
   "source": [
    "k5 = Car(\"k5\",\"1500\",\"2020\")"
   ]
  },
  {
   "cell_type": "code",
   "execution_count": 168,
   "metadata": {},
   "outputs": [],
   "source": [
    "k7 = Car(\"k7\",\"2100\",\"2020\")"
   ]
  },
  {
   "cell_type": "code",
   "execution_count": 169,
   "metadata": {},
   "outputs": [
    {
     "name": "stdout",
     "output_type": "stream",
     "text": [
      "k3\n",
      "중형\n",
      "총 자동차 수는: 3 대\n"
     ]
    }
   ],
   "source": [
    "k3.name()\n",
    "k3.cc()\n",
    "k3.carcount()"
   ]
  },
  {
   "cell_type": "code",
   "execution_count": 147,
   "metadata": {},
   "outputs": [
    {
     "name": "stdout",
     "output_type": "stream",
     "text": [
      "총 자동차 수는: 3 대\n"
     ]
    }
   ],
   "source": [
    "k7.carcount()"
   ]
  },
  {
   "cell_type": "code",
   "execution_count": 148,
   "metadata": {},
   "outputs": [
    {
     "name": "stdout",
     "output_type": "stream",
     "text": [
      "k7\n",
      "대형\n",
      "총 자동차 수는: 3 대\n"
     ]
    }
   ],
   "source": [
    "k7.name()\n",
    "k7.cc()\n",
    "k7.carcount()"
   ]
  },
  {
   "cell_type": "code",
   "execution_count": 16,
   "metadata": {},
   "outputs": [],
   "source": [
    "#클래스 실습 01 \n",
    "#name,cc,year\n",
    "\n",
    "class Car:\n",
    "    car_count = 0\n",
    "\n",
    "    def __init__(self,name,cc,year): #차이름 변경 함수 \n",
    "        self.__name = name\n",
    "        self.__cc = cc\n",
    "        self.__year = year\n",
    "        \n",
    "        Car.car_count += 1\n",
    "                \n",
    "    def name(self):\n",
    "        print(f\"차종은 {self.__name}입니다.\")\n",
    "        \n",
    "    def cc(self):\n",
    "        if int(self.__cc) < 1000:\n",
    "            print(\"소형\")\n",
    "        elif 1000 <= int(self.__cc) <= 2000:\n",
    "            print(\"중형\")\n",
    "        else:\n",
    "            print(\"대형\")\n",
    "    \n",
    "    def changename(self, newname):\n",
    "        self.__name = newname\n",
    "        \n",
    "            \n",
    "    @classmethod        \n",
    "    def carcount(cls):\n",
    "        print(\"총 자동차 수는:\",Car.car_count,\"대\")"
   ]
  },
  {
   "cell_type": "code",
   "execution_count": 17,
   "metadata": {},
   "outputs": [],
   "source": [
    "k3 = Car(\"k3\",900,2020)"
   ]
  },
  {
   "cell_type": "code",
   "execution_count": 18,
   "metadata": {},
   "outputs": [
    {
     "ename": "NameError",
     "evalue": "name 'k5' is not defined",
     "output_type": "error",
     "traceback": [
      "\u001b[1;31m---------------------------------------------------------------------------\u001b[0m",
      "\u001b[1;31mNameError\u001b[0m                                 Traceback (most recent call last)",
      "\u001b[1;32m<ipython-input-18-37dfbc778f9b>\u001b[0m in \u001b[0;36m<module>\u001b[1;34m\u001b[0m\n\u001b[1;32m----> 1\u001b[1;33m \u001b[0mk3\u001b[0m\u001b[1;33m.\u001b[0m\u001b[0mchangename\u001b[0m\u001b[1;33m(\u001b[0m\u001b[0mk5\u001b[0m\u001b[1;33m)\u001b[0m\u001b[1;33m\u001b[0m\u001b[1;33m\u001b[0m\u001b[0m\n\u001b[0m",
      "\u001b[1;31mNameError\u001b[0m: name 'k5' is not defined"
     ]
    }
   ],
   "source": [
    "k3.changename(k5)"
   ]
  },
  {
   "cell_type": "code",
   "execution_count": 171,
   "metadata": {},
   "outputs": [
    {
     "name": "stdout",
     "output_type": "stream",
     "text": [
      "총 자동차 수는: 0 대\n"
     ]
    }
   ],
   "source": [
    "Car.carcount()"
   ]
  },
  {
   "cell_type": "code",
   "execution_count": 198,
   "metadata": {},
   "outputs": [
    {
     "name": "stdout",
     "output_type": "stream",
     "text": [
      "홍길동 서울시 aa@aa.com\n"
     ]
    }
   ],
   "source": [
    "import pickle\n",
    "\n",
    "try:\n",
    "    with open(\"data3.p\",\"rb\") as file:\n",
    "        name=pickle.load(file)\n",
    "        address=pickle.load(file)\n",
    "        email=pickle.load(file)\n",
    "        \n",
    "        print(name,address,email)\n",
    "\n",
    "except FileNotFoundError as e:\n",
    "    print(\"file이 존재하지 않습니다.\")\n",
    "    name = input(\"이름 : \")\n",
    "    address = input(\"주소 : \")\n",
    "    email = input(\"이메일 : \")\n",
    "    \n",
    "    data = {\"이름\":name, \"주소\":address, \"이메일\":email}\n",
    "    \n",
    "    with open(\"data3.p\",\"wb\") as file:\n",
    "        pickle.dump(name,file)\n",
    "        pickle.dump(address,file)\n",
    "        pickle.dump(email,file)\n",
    "        \n",
    "    print(\"file이 생성되었습니다.\")"
   ]
  },
  {
   "cell_type": "code",
   "execution_count": 180,
   "metadata": {},
   "outputs": [
    {
     "name": "stdout",
     "output_type": "stream",
     "text": [
      "{'이름': '홍길동', '주소': '서울시', '이메일': 'aa@aa.com'}\n"
     ]
    }
   ],
   "source": [
    "import pickle\n",
    "\n",
    "with open(\"data3.p\",\"rb\") as file:\n",
    "        name=pickle.load(file)\n",
    "        address=pickle.load(file)\n",
    "        email=pickle.load(file)\n",
    "        \n",
    "        print(data)"
   ]
  },
  {
   "cell_type": "code",
   "execution_count": 4,
   "metadata": {},
   "outputs": [
    {
     "name": "stdout",
     "output_type": "stream",
     "text": [
      "11\n",
      "-1\n"
     ]
    }
   ],
   "source": [
    "import pkcalc.calc as calc\n",
    "\n",
    "print(calc.add(5,6))\n",
    "print(calc.sub(5,6))"
   ]
  },
  {
   "cell_type": "code",
   "execution_count": 6,
   "metadata": {},
   "outputs": [
    {
     "name": "stdout",
     "output_type": "stream",
     "text": [
      "11\n"
     ]
    }
   ],
   "source": [
    "from pkcalc.calc import add\n",
    "\n",
    "print(add(5,6))"
   ]
  },
  {
   "cell_type": "code",
   "execution_count": 7,
   "metadata": {},
   "outputs": [
    {
     "name": "stdout",
     "output_type": "stream",
     "text": [
      "['C:\\\\Users\\\\mmqq2\\\\Kdigital\\\\lab', 'C:\\\\Users\\\\mmqq2\\\\anaconda3\\\\python38.zip', 'C:\\\\Users\\\\mmqq2\\\\anaconda3\\\\DLLs', 'C:\\\\Users\\\\mmqq2\\\\anaconda3\\\\lib', 'C:\\\\Users\\\\mmqq2\\\\anaconda3', '', 'C:\\\\Users\\\\mmqq2\\\\anaconda3\\\\lib\\\\site-packages', 'C:\\\\Users\\\\mmqq2\\\\anaconda3\\\\lib\\\\site-packages\\\\win32', 'C:\\\\Users\\\\mmqq2\\\\anaconda3\\\\lib\\\\site-packages\\\\win32\\\\lib', 'C:\\\\Users\\\\mmqq2\\\\anaconda3\\\\lib\\\\site-packages\\\\Pythonwin', 'C:\\\\Users\\\\mmqq2\\\\anaconda3\\\\lib\\\\site-packages\\\\IPython\\\\extensions', 'C:\\\\Users\\\\mmqq2\\\\.ipython']\n"
     ]
    }
   ],
   "source": [
    "import sys\n",
    "print(sys.path)"
   ]
  },
  {
   "cell_type": "code",
   "execution_count": 8,
   "metadata": {},
   "outputs": [],
   "source": [
    "import pkcalc"
   ]
  },
  {
   "cell_type": "code",
   "execution_count": 11,
   "metadata": {},
   "outputs": [
    {
     "name": "stdout",
     "output_type": "stream",
     "text": [
      "11\n"
     ]
    }
   ],
   "source": [
    "print(calc.add(5,6))"
   ]
  },
  {
   "cell_type": "code",
   "execution_count": 8,
   "metadata": {},
   "outputs": [],
   "source": [
    "import numpy as np"
   ]
  },
  {
   "cell_type": "code",
   "execution_count": 13,
   "metadata": {},
   "outputs": [],
   "source": [
    "import pandas as pd"
   ]
  },
  {
   "cell_type": "code",
   "execution_count": 14,
   "metadata": {},
   "outputs": [],
   "source": [
    "matrix_1 = [[1, 2], [3, 4]]\n",
    "matrix_2 = [[5, 6], [7, 8]]"
   ]
  },
  {
   "cell_type": "code",
   "execution_count": 16,
   "metadata": {},
   "outputs": [
    {
     "name": "stdout",
     "output_type": "stream",
     "text": [
      "[[6, 8], [10, 12]]\n"
     ]
    }
   ],
   "source": [
    "#matrix 원소의 합\n",
    "c = []\n",
    "\n",
    "for i in range(len(matrix_1)):\n",
    "    temp = []\n",
    "    for j in range(len(matrix_1[i])):\n",
    "        temp.append(matrix_1[i][j]+matrix_2[i][j])\n",
    "    c.append(temp)\n",
    "\n",
    "print(c)                        "
   ]
  },
  {
   "cell_type": "code",
   "execution_count": 23,
   "metadata": {},
   "outputs": [
    {
     "name": "stdout",
     "output_type": "stream",
     "text": [
      "[[2, 3], [4, 5]]\n"
     ]
    }
   ],
   "source": [
    "#matrix_1의 원소에 1 더하기\n",
    "c = []\n",
    "\n",
    "for i in range(len(matrix_1)):\n",
    "    temp = []\n",
    "    for j in range(len(matrix_1[i])):\n",
    "        temp.append(matrix_1[i][j] + 1)\n",
    "    c.append(temp)\n",
    "    \n",
    "print(c)"
   ]
  },
  {
   "cell_type": "code",
   "execution_count": 30,
   "metadata": {},
   "outputs": [
    {
     "name": "stdout",
     "output_type": "stream",
     "text": [
      "2\n"
     ]
    }
   ],
   "source": [
    "#matrix_1의 원소에 1 더하기\n",
    "c = []\n",
    "\n",
    "for i in range(len(matrix_1)):\n",
    "    temp = []\n",
    "    for j in range(len(matrix_1[i])):\n",
    "        temp.append(matrix_1[i][j] + 1)\n",
    "    c.append(temp)\n",
    "    \n",
    "print(matrix_1[0][1])"
   ]
  },
  {
   "cell_type": "code",
   "execution_count": 45,
   "metadata": {},
   "outputs": [],
   "source": [
    "matrix_1 = [[1, 2], [3, 4]]\n",
    "matrix_2 = [[5, 6], [7, 8]]"
   ]
  },
  {
   "cell_type": "code",
   "execution_count": 32,
   "metadata": {},
   "outputs": [],
   "source": [
    "def matrix_sum(mat_1, mat_2):\n",
    "    for i in range(len(matrix_1)):\n",
    "        for j in range(len(matrix_1[0])):\n",
    "            mat_1[i][j] += mat_2[i][j]\n",
    "            \n",
    "    return mat_1"
   ]
  },
  {
   "cell_type": "code",
   "execution_count": 35,
   "metadata": {},
   "outputs": [
    {
     "name": "stdout",
     "output_type": "stream",
     "text": [
      "[[6, 8], [10, 12]]\n"
     ]
    }
   ],
   "source": [
    "matrix_sum(matrix_1,matrix_2)\n",
    "print(matrix_1)"
   ]
  },
  {
   "cell_type": "code",
   "execution_count": null,
   "metadata": {},
   "outputs": [],
   "source": [
    "matrix_1 = [[1, 2], [3, 4]]\n",
    "matrix_2 = [[5, 6], [7, 8]]"
   ]
  },
  {
   "cell_type": "code",
   "execution_count": 46,
   "metadata": {},
   "outputs": [],
   "source": [
    "def mat_add_one(mat):\n",
    "    for i in range(len(mat)):\n",
    "        for j in range(len(mat[0])):\n",
    "            mat[i][j] += 1\n",
    "    return mat"
   ]
  },
  {
   "cell_type": "code",
   "execution_count": 47,
   "metadata": {},
   "outputs": [
    {
     "data": {
      "text/plain": [
       "[[2, 3], [4, 5]]"
      ]
     },
     "execution_count": 47,
     "metadata": {},
     "output_type": "execute_result"
    }
   ],
   "source": [
    "mat_add_one(matrix_1)\n",
    "matrix_1"
   ]
  },
  {
   "cell_type": "code",
   "execution_count": 48,
   "metadata": {},
   "outputs": [],
   "source": [
    "matrix_1 = [[1, 2], [3, 4]]\n",
    "matrix_2 = [[5, 6], [7, 8]]"
   ]
  },
  {
   "cell_type": "code",
   "execution_count": 49,
   "metadata": {},
   "outputs": [
    {
     "name": "stdout",
     "output_type": "stream",
     "text": [
      "[[ 6  8]\n",
      " [10 12]]\n"
     ]
    }
   ],
   "source": [
    "mat_sum = np.array(matrix_1) + np.array(matrix_2)\n",
    "print(mat_sum)"
   ]
  },
  {
   "cell_type": "code",
   "execution_count": 50,
   "metadata": {},
   "outputs": [
    {
     "name": "stdout",
     "output_type": "stream",
     "text": [
      "[[2 3]\n",
      " [4 5]]\n"
     ]
    }
   ],
   "source": [
    "mat_one = np.array(matrix_1) + 1\n",
    "print(mat_one)"
   ]
  },
  {
   "cell_type": "code",
   "execution_count": 51,
   "metadata": {},
   "outputs": [],
   "source": [
    "import time"
   ]
  },
  {
   "cell_type": "code",
   "execution_count": 52,
   "metadata": {},
   "outputs": [],
   "source": [
    "size = 10000000"
   ]
  },
  {
   "cell_type": "code",
   "execution_count": 53,
   "metadata": {},
   "outputs": [],
   "source": [
    "x = list(range(size))\n",
    "y = list(range(size))"
   ]
  },
  {
   "cell_type": "code",
   "execution_count": 54,
   "metadata": {},
   "outputs": [
    {
     "name": "stdout",
     "output_type": "stream",
     "text": [
      "리스트 걸린시간 2.4715735912323\n"
     ]
    }
   ],
   "source": [
    "start_time = time.time()\n",
    "z = [x[i]+y[i] for i in range(size)]\n",
    "print(\"리스트 걸린시간\",time.time()-start_time)"
   ]
  },
  {
   "cell_type": "code",
   "execution_count": 55,
   "metadata": {},
   "outputs": [
    {
     "name": "stdout",
     "output_type": "stream",
     "text": [
      "넘파이 걸린시간 0.15477371215820312\n"
     ]
    }
   ],
   "source": [
    "x = np.arange(size)\n",
    "y = np.arange(size)\n",
    "start_time = time.time()\n",
    "z = x + y\n",
    "print(\"넘파이 걸린시간\",time.time()-start_time)"
   ]
  },
  {
   "cell_type": "code",
   "execution_count": 9,
   "metadata": {},
   "outputs": [
    {
     "name": "stdout",
     "output_type": "stream",
     "text": [
      "32\n",
      "<class 'numpy.uint32'>\n",
      "uint32\n"
     ]
    }
   ],
   "source": [
    "x = np.uint(32)\n",
    "print(x)\n",
    "print(type(x))\n",
    "print(x.dtype)"
   ]
  },
  {
   "cell_type": "code",
   "execution_count": 10,
   "metadata": {},
   "outputs": [
    {
     "name": "stdout",
     "output_type": "stream",
     "text": [
      "[1 2 3 4]\n",
      "<class 'numpy.ndarray'>\n",
      "int32\n"
     ]
    }
   ],
   "source": [
    "x = np.array([1,2,3,4])\n",
    "print(x)\n",
    "print(type(x))\n",
    "print(x.dtype)"
   ]
  },
  {
   "cell_type": "code",
   "execution_count": 11,
   "metadata": {},
   "outputs": [
    {
     "name": "stdout",
     "output_type": "stream",
     "text": [
      "[1. 2. 3. 4.]\n",
      "<class 'numpy.ndarray'>\n",
      "float32\n"
     ]
    }
   ],
   "source": [
    "x = np.float32([1,2,3,4])\n",
    "print(x)\n",
    "print(type(x))\n",
    "print(x.dtype)"
   ]
  },
  {
   "cell_type": "code",
   "execution_count": 12,
   "metadata": {},
   "outputs": [
    {
     "name": "stdout",
     "output_type": "stream",
     "text": [
      "[1. 2. 3. 4.]\n",
      "<class 'numpy.ndarray'>\n",
      "float32\n"
     ]
    }
   ],
   "source": [
    "x = np.array([1,2,3,4], dtype=np.float32)\n",
    "print(x)\n",
    "print(type(x))\n",
    "print(x.dtype)"
   ]
  },
  {
   "cell_type": "code",
   "execution_count": 13,
   "metadata": {},
   "outputs": [
    {
     "name": "stdout",
     "output_type": "stream",
     "text": [
      "int32\n",
      "[1 2 3 4]\n"
     ]
    }
   ],
   "source": [
    "x = np.int32(x)\n",
    "print(x.dtype)\n",
    "print(x)"
   ]
  },
  {
   "cell_type": "code",
   "execution_count": 14,
   "metadata": {},
   "outputs": [
    {
     "data": {
      "text/plain": [
       "True"
      ]
     },
     "execution_count": 14,
     "metadata": {},
     "output_type": "execute_result"
    }
   ],
   "source": [
    "np.issubdtype(x.dtype,np.int32)"
   ]
  },
  {
   "cell_type": "code",
   "execution_count": 15,
   "metadata": {},
   "outputs": [
    {
     "data": {
      "text/plain": [
       "True"
      ]
     },
     "execution_count": 15,
     "metadata": {},
     "output_type": "execute_result"
    }
   ],
   "source": [
    "np.issubdtype(x.dtype,np.int32)"
   ]
  },
  {
   "cell_type": "code",
   "execution_count": null,
   "metadata": {},
   "outputs": [],
   "source": []
  }
 ],
 "metadata": {
  "kernelspec": {
   "display_name": "Python 3",
   "language": "python",
   "name": "python3"
  },
  "language_info": {
   "codemirror_mode": {
    "name": "ipython",
    "version": 3
   },
   "file_extension": ".py",
   "mimetype": "text/x-python",
   "name": "python",
   "nbconvert_exporter": "python",
   "pygments_lexer": "ipython3",
   "version": "3.8.5"
  }
 },
 "nbformat": 4,
 "nbformat_minor": 4
}
