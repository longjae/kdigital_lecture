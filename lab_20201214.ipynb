{
 "cells": [
  {
   "cell_type": "code",
   "execution_count": 4,
   "metadata": {},
   "outputs": [
    {
     "name": "stdout",
     "output_type": "stream",
     "text": [
      "[30, 60, 90, 200, -70, 50]\n"
     ]
    }
   ],
   "source": [
    "x = [3, 6, 9, 20, -7, 5]\n",
    "\n",
    "for i in range(len(x)): # = range(6)\n",
    "    x[i] = x[i] * 10\n",
    "print(x)"
   ]
  },
  {
   "cell_type": "code",
   "execution_count": 6,
   "metadata": {},
   "outputs": [
    {
     "name": "stdout",
     "output_type": "stream",
     "text": [
      "5\n"
     ]
    }
   ],
   "source": [
    "x = [3, 6, 9, 20, -7, 5]\n",
    "\n",
    "for i in x:\n",
    "    x = x * 10\n",
    "print(i)"
   ]
  },
  {
   "cell_type": "code",
   "execution_count": 15,
   "metadata": {},
   "outputs": [
    {
     "name": "stdout",
     "output_type": "stream",
     "text": [
      "50 40 30 20 10 "
     ]
    },
    {
     "data": {
      "text/plain": [
       "0"
      ]
     },
     "execution_count": 15,
     "metadata": {},
     "output_type": "execute_result"
    }
   ],
   "source": [
    "list1 = [10,20,30,40,50]\n",
    "for i in range(len(list1)-1,-1,-1):\n",
    "    print(list1[i],end=\" \")\n",
    "i"
   ]
  },
  {
   "cell_type": "code",
   "execution_count": 23,
   "metadata": {},
   "outputs": [
    {
     "name": "stdout",
     "output_type": "stream",
     "text": [
      "1 2 3\n"
     ]
    }
   ],
   "source": [
    "def func(a,b,c):\n",
    "    print(a,b,c)\n",
    "\n",
    "x = [1,2,3]\n",
    "func(*x)"
   ]
  },
  {
   "cell_type": "code",
   "execution_count": 26,
   "metadata": {},
   "outputs": [
    {
     "name": "stdout",
     "output_type": "stream",
     "text": [
      "1\n",
      "2\n",
      "3\n",
      "4\n",
      "5\n"
     ]
    }
   ],
   "source": [
    "def func(*args):\n",
    "    for arg in args:\n",
    "        print(arg)\n",
    "        \n",
    "func(1,2,3,4,5)"
   ]
  },
  {
   "cell_type": "code",
   "execution_count": 29,
   "metadata": {},
   "outputs": [
    {
     "name": "stdout",
     "output_type": "stream",
     "text": [
      "100 1 2 3 4 5 "
     ]
    }
   ],
   "source": [
    "def func(a, *args):\n",
    "    print(a,end=\" \")\n",
    "    for arg in args:\n",
    "        print(arg,end=\" \")\n",
    "\n",
    "func(100,1,2,3,4,5)"
   ]
  },
  {
   "cell_type": "code",
   "execution_count": 93,
   "metadata": {},
   "outputs": [
    {
     "name": "stdout",
     "output_type": "stream",
     "text": [
      "이메일: aa@aa.com\n",
      "이름: tom\n"
     ]
    }
   ],
   "source": [
    "def func(email,name):\n",
    "    print(\"이메일:\",email)\n",
    "    print(\"이름:\",name)\n",
    "    \n",
    "x = {\"email\":\"aa@aa.com\",\"name\":\"tom\"}\n",
    "func(**x)"
   ]
  },
  {
   "cell_type": "code",
   "execution_count": 91,
   "metadata": {},
   "outputs": [
    {
     "name": "stdout",
     "output_type": "stream",
     "text": [
      "이메일: aa@aa.com\n",
      "이름: ben\n"
     ]
    }
   ],
   "source": [
    "def func(email,name):\n",
    "    print(\"이메일:\",email)\n",
    "    print(\"이름:\",name)\n",
    "    \n",
    "func(email = \"aa@aa.com\", name = \"ben\")"
   ]
  },
  {
   "cell_type": "code",
   "execution_count": 34,
   "metadata": {},
   "outputs": [
    {
     "name": "stdout",
     "output_type": "stream",
     "text": [
      "이메일: aa@aa.com\n",
      "이름: tom\n"
     ]
    }
   ],
   "source": [
    "def func(**kwargs):\n",
    "    print(\"이메일:\",kwargs[\"email\"])\n",
    "    print(\"이름:\",kwargs[\"name\"])\n",
    "    \n",
    "func(email=\"aa@aa.com\",name=\"tom\")"
   ]
  },
  {
   "cell_type": "code",
   "execution_count": 37,
   "metadata": {},
   "outputs": [
    {
     "name": "stdout",
     "output_type": "stream",
     "text": [
      "이메일: aa@aa.com\n",
      "이름: tom\n",
      "나이: 20\n",
      "이메일: bb@bb.com\n",
      "이름: ben\n",
      "나이: 18\n"
     ]
    }
   ],
   "source": [
    "def func(email,name,age=20):\n",
    "    print(\"이메일:\",email)\n",
    "    print(\"이름:\",name)\n",
    "    print(\"나이:\",age)\n",
    "    \n",
    "func(email=\"aa@aa.com\",name=\"tom\")\n",
    "func(email=\"bb@bb.com\",name=\"ben\",age=18)"
   ]
  },
  {
   "cell_type": "code",
   "execution_count": 102,
   "metadata": {},
   "outputs": [
    {
     "name": "stdout",
     "output_type": "stream",
     "text": [
      "15\n",
      "120\n"
     ]
    }
   ],
   "source": [
    "#실습 02\n",
    "\n",
    "def calc(oper,*args):\n",
    "    if oper == '+':\n",
    "        cal = 0\n",
    "        for arg in args:\n",
    "            cal += arg\n",
    "        return cal\n",
    "            \n",
    "    elif oper == '*':\n",
    "        cal = 1\n",
    "        for arg in args:\n",
    "            cal *= arg\n",
    "        return cal      \n",
    "\n",
    "print(calc('+',1,2,3,4,5))\n",
    "print(calc('*',1,2,3,4,5))"
   ]
  },
  {
   "cell_type": "code",
   "execution_count": 109,
   "metadata": {},
   "outputs": [
    {
     "name": "stdout",
     "output_type": "stream",
     "text": [
      "15\n",
      "120\n",
      "덧셈 혹은 곱셈만 가능합니다.\n"
     ]
    }
   ],
   "source": [
    "#실습 02\n",
    "\n",
    "def calc(oper,*args):\n",
    "    if oper == '+':\n",
    "        cal = 0\n",
    "        for arg in args:\n",
    "            cal += arg\n",
    "        return cal\n",
    "            \n",
    "    elif oper == '*':\n",
    "        cal = 1\n",
    "        for arg in args:\n",
    "            cal *= arg\n",
    "        return cal\n",
    "    \n",
    "    else:\n",
    "        return \"덧셈 혹은 곱셈만 가능합니다.\"\n",
    "        \n",
    "\n",
    "print(calc('+',1,2,3,4,5))\n",
    "print(calc('*',1,2,3,4,5))\n",
    "print(calc('-',1,2,3,4,5))"
   ]
  },
  {
   "cell_type": "code",
   "execution_count": 120,
   "metadata": {},
   "outputs": [
    {
     "name": "stdout",
     "output_type": "stream",
     "text": [
      "15\n",
      "-15\n",
      "120\n",
      "0.008333333333333333\n",
      "사칙연산만 가능합니다.('+','-','*','/'사용)\n"
     ]
    }
   ],
   "source": [
    "#실습 02\n",
    "\n",
    "def calc(oper,*args):\n",
    "    if oper == '+':\n",
    "        cal = 0\n",
    "        for arg in args:\n",
    "            cal += arg\n",
    "        return cal\n",
    "            \n",
    "    elif oper == '*':\n",
    "        cal = 1\n",
    "        for arg in args:\n",
    "            cal *= arg\n",
    "        return cal\n",
    "    \n",
    "    elif oper == '-':\n",
    "        cal = 0\n",
    "        for arg in args:\n",
    "            cal -= arg\n",
    "        return cal\n",
    "    \n",
    "    elif oper == '/':\n",
    "        cal = 1\n",
    "        for arg in args:\n",
    "            cal /= arg\n",
    "        return cal\n",
    "    \n",
    "    else:\n",
    "        return \"사칙연산만 가능합니다.('+','-','*','/'사용)\"\n",
    "        \n",
    "\n",
    "print(calc('+',1,2,3,4,5))\n",
    "print(calc('-',1,2,3,4,5))\n",
    "print(calc('*',1,2,3,4,5))\n",
    "print(calc('/',1,2,3,4,5))\n",
    "print(calc('%',1,2,3,4,5))"
   ]
  },
  {
   "cell_type": "code",
   "execution_count": 124,
   "metadata": {},
   "outputs": [
    {
     "name": "stdout",
     "output_type": "stream",
     "text": [
      "재귀함수!\n",
      "재귀함수!\n",
      "재귀함수!\n",
      "재귀함수!\n",
      "재귀함수!\n"
     ]
    }
   ],
   "source": [
    "def test(end):\n",
    "    if end == 0:\n",
    "        return\n",
    "    print('재귀함수!')\n",
    "    end -= 1\n",
    "    test(end)\n",
    "    \n",
    "test(5)"
   ]
  },
  {
   "cell_type": "code",
   "execution_count": 126,
   "metadata": {},
   "outputs": [
    {
     "data": {
      "text/plain": [
       "2"
      ]
     },
     "execution_count": 126,
     "metadata": {},
     "output_type": "execute_result"
    }
   ],
   "source": [
    "def factorial(n):\n",
    "    if n == 1:\n",
    "        return 1\n",
    "    \n",
    "    return n * factorial(n-1)\n",
    "\n",
    "factorial(2)"
   ]
  },
  {
   "cell_type": "code",
   "execution_count": 148,
   "metadata": {},
   "outputs": [
    {
     "data": {
      "text/plain": [
       "15"
      ]
     },
     "execution_count": 148,
     "metadata": {},
     "output_type": "execute_result"
    }
   ],
   "source": [
    "#실습 03\n",
    "\n",
    "def f_sum(n):\n",
    "    if n == 0:\n",
    "        return 0\n",
    "    \n",
    "    return n + f_sum(n-1)\n",
    "    \n",
    "f_sum(5)"
   ]
  },
  {
   "cell_type": "code",
   "execution_count": 158,
   "metadata": {
    "scrolled": true
   },
   "outputs": [
    {
     "name": "stdout",
     "output_type": "stream",
     "text": [
      "1\n",
      "2\n",
      "3\n",
      "4\n"
     ]
    }
   ],
   "source": [
    "#실습 03\n",
    "\n",
    "def f_number(n):\n",
    "    if n == 0:\n",
    "        return\n",
    "    \n",
    "    f_number(int(n/10))\n",
    "    print(n % 10)\n",
    "    \n",
    "f_number(1234)"
   ]
  },
  {
   "cell_type": "code",
   "execution_count": 159,
   "metadata": {},
   "outputs": [
    {
     "name": "stdout",
     "output_type": "stream",
     "text": [
      "4\n",
      "3\n",
      "2\n",
      "1\n"
     ]
    }
   ],
   "source": [
    "#실습 03\n",
    "\n",
    "def f_number(n):\n",
    "    if n == 0:\n",
    "        return\n",
    "    \n",
    "    print(n % 10)\n",
    "    f_number(int(n/10))\n",
    "    \n",
    "    \n",
    "f_number(1234)"
   ]
  },
  {
   "cell_type": "code",
   "execution_count": 160,
   "metadata": {},
   "outputs": [
    {
     "data": {
      "text/plain": [
       "123"
      ]
     },
     "execution_count": 160,
     "metadata": {},
     "output_type": "execute_result"
    }
   ],
   "source": [
    "int(1234/10)"
   ]
  },
  {
   "cell_type": "code",
   "execution_count": 164,
   "metadata": {},
   "outputs": [
    {
     "data": {
      "text/plain": [
       "3"
      ]
     },
     "execution_count": 164,
     "metadata": {},
     "output_type": "execute_result"
    }
   ],
   "source": [
    "123%10"
   ]
  },
  {
   "cell_type": "code",
   "execution_count": 161,
   "metadata": {},
   "outputs": [
    {
     "name": "stdout",
     "output_type": "stream",
     "text": [
      "4\n"
     ]
    }
   ],
   "source": [
    "print(1234%10)"
   ]
  },
  {
   "cell_type": "code",
   "execution_count": 162,
   "metadata": {},
   "outputs": [
    {
     "data": {
      "text/plain": [
       "11"
      ]
     },
     "execution_count": 162,
     "metadata": {},
     "output_type": "execute_result"
    }
   ],
   "source": [
    "def plus_ten(x):\n",
    "    return x + 10\n",
    "plus_ten(1)"
   ]
  },
  {
   "cell_type": "code",
   "execution_count": 163,
   "metadata": {},
   "outputs": [
    {
     "data": {
      "text/plain": [
       "11"
      ]
     },
     "execution_count": 163,
     "metadata": {},
     "output_type": "execute_result"
    }
   ],
   "source": [
    "plus_ten = lambda x: x + 10\n",
    "plus_ten(1)"
   ]
  },
  {
   "cell_type": "code",
   "execution_count": 166,
   "metadata": {},
   "outputs": [
    {
     "data": {
      "text/plain": [
       "11"
      ]
     },
     "execution_count": 166,
     "metadata": {},
     "output_type": "execute_result"
    }
   ],
   "source": [
    "(lambda x:x+10)(1)"
   ]
  },
  {
   "cell_type": "code",
   "execution_count": 167,
   "metadata": {},
   "outputs": [
    {
     "data": {
      "text/plain": [
       "21"
      ]
     },
     "execution_count": 167,
     "metadata": {},
     "output_type": "execute_result"
    }
   ],
   "source": [
    "y = 20\n",
    "(lambda x:x+y)(1)"
   ]
  },
  {
   "cell_type": "code",
   "execution_count": 168,
   "metadata": {},
   "outputs": [
    {
     "data": {
      "text/plain": [
       "[1, 0, 3, 0, 5, 0, 7, 0, 9, 0]"
      ]
     },
     "execution_count": 168,
     "metadata": {},
     "output_type": "execute_result"
    }
   ],
   "source": [
    "a= [1,2,3,4,5,6,7,8,9,10]\n",
    "\n",
    "def f(x):\n",
    "    if x % 2 ==0:\n",
    "        return 0\n",
    "    else:\n",
    "        return x\n",
    "\n",
    "list(map(f,a))"
   ]
  },
  {
   "cell_type": "code",
   "execution_count": 171,
   "metadata": {},
   "outputs": [
    {
     "data": {
      "text/plain": [
       "[1, 0, 3, 0, 5, 0, 7, 0, 9, 0]"
      ]
     },
     "execution_count": 171,
     "metadata": {},
     "output_type": "execute_result"
    }
   ],
   "source": [
    "a= [1,2,3,4,5,6,7,8,9,10]\n",
    "\n",
    "list(map(lambda x:0 if x % 2 == 0 else x,a))"
   ]
  },
  {
   "cell_type": "code",
   "execution_count": 173,
   "metadata": {},
   "outputs": [
    {
     "data": {
      "text/plain": [
       "[2, 0, 1, 0, 2, 0, 2, 0, 1, 0]"
      ]
     },
     "execution_count": 173,
     "metadata": {},
     "output_type": "execute_result"
    }
   ],
   "source": [
    "a= [1,2,3,4,5,6,7,8,9,10]\n",
    "\n",
    "list(map(lambda x: 0 if x % 2 == 0 else 1 if x % 3 == 0 else 2,a))"
   ]
  },
  {
   "cell_type": "code",
   "execution_count": 174,
   "metadata": {},
   "outputs": [
    {
     "data": {
      "text/plain": [
       "[6, 4, 3, 6, 3, 6]"
      ]
     },
     "execution_count": 174,
     "metadata": {},
     "output_type": "execute_result"
    }
   ],
   "source": [
    "#filter\n",
    "\n",
    "a = [2,6,4,3,6,8,3,9,6]\n",
    "\n",
    "list(filter(lambda x : x>2 and x<8,a))"
   ]
  },
  {
   "cell_type": "code",
   "execution_count": 186,
   "metadata": {},
   "outputs": [
    {
     "data": {
      "text/plain": [
       "['불합격', '불합격', '대기', '불합격', '불합격', '불합격', '합격', '대기']"
      ]
     },
     "execution_count": 186,
     "metadata": {},
     "output_type": "execute_result"
    }
   ],
   "source": [
    "#실습 04\n",
    "numbers = [12,32,55,12,32,4,86,50]\n",
    "\n",
    "list(map(lambda x : \"합격\" if x > 60 else \"대기\" if x >=50 and x <= 60 else \"불합격\",numbers))"
   ]
  },
  {
   "cell_type": "code",
   "execution_count": 225,
   "metadata": {
    "scrolled": true
   },
   "outputs": [
    {
     "data": {
      "text/plain": [
       "['1.jpg', '23.jpg', '223.jpg']"
      ]
     },
     "execution_count": 225,
     "metadata": {},
     "output_type": "execute_result"
    }
   ],
   "source": [
    "#실습 04\n",
    "files = [\"memo.txt\",\"1.jpg\",\"32.png\",\"23.jpg\",\"223.jpg\"]\n",
    "\n",
    "list(filter(lambda x : x.find(\"jpg\") != -1, files))\n"
   ]
  },
  {
   "cell_type": "code",
   "execution_count": 233,
   "metadata": {},
   "outputs": [
    {
     "data": {
      "text/plain": [
       "['1.jpg', '23.jpg', '223.jpg']"
      ]
     },
     "execution_count": 233,
     "metadata": {},
     "output_type": "execute_result"
    }
   ],
   "source": [
    "files = [\"memo.txt\",\"1.jpg\",\"32.png\",\"23.jpg\",\"223.jpg\"]\n",
    "list(filter(lambda x : x.find(\".jpg\") > -1,files))"
   ]
  },
  {
   "cell_type": "code",
   "execution_count": 232,
   "metadata": {},
   "outputs": [
    {
     "name": "stdout",
     "output_type": "stream",
     "text": [
      "-1\n",
      "2\n",
      "-1\n",
      "3\n",
      "4\n"
     ]
    }
   ],
   "source": [
    "files = [\"memo.txt\",\"1.jpg\",\"32.png\",\"23.jpg\",\"223.jpg\"]\n",
    "\n",
    "for i in files:\n",
    "    print(i.find(\"jpg\"))\n",
    "    "
   ]
  },
  {
   "cell_type": "code",
   "execution_count": 190,
   "metadata": {},
   "outputs": [
    {
     "data": {
      "text/plain": [
       "[1, 0, 0, 0, 5, 0, 7, 0, 0, 0]"
      ]
     },
     "execution_count": 190,
     "metadata": {},
     "output_type": "execute_result"
    }
   ],
   "source": [
    "a = [1,2,3,4,5,6,7,8,9,10]\n",
    "\n",
    "list(map(lambda x : 0 if x % 2 == 0 or x % 3 == 0 else x ,a))"
   ]
  },
  {
   "cell_type": "code",
   "execution_count": 1,
   "metadata": {},
   "outputs": [
    {
     "data": {
      "text/plain": [
       "[1, 0, 0, 0, 5, 0, 7, 0, 0, 0]"
      ]
     },
     "execution_count": 1,
     "metadata": {},
     "output_type": "execute_result"
    }
   ],
   "source": [
    "a = [1,2,3,4,5,6,7,8,9,10]\n",
    "\n",
    "list(map(lambda x : 0 if x % 2 == 0 or x % 3 == 0 else x ,a))"
   ]
  },
  {
   "cell_type": "code",
   "execution_count": null,
   "metadata": {},
   "outputs": [],
   "source": []
  }
 ],
 "metadata": {
  "kernelspec": {
   "display_name": "Python 3",
   "language": "python",
   "name": "python3"
  },
  "language_info": {
   "codemirror_mode": {
    "name": "ipython",
    "version": 3
   },
   "file_extension": ".py",
   "mimetype": "text/x-python",
   "name": "python",
   "nbconvert_exporter": "python",
   "pygments_lexer": "ipython3",
   "version": "3.8.5"
  }
 },
 "nbformat": 4,
 "nbformat_minor": 4
}
